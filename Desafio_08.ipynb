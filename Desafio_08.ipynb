{
  "nbformat": 4,
  "nbformat_minor": 0,
  "metadata": {
    "anaconda-cloud": {},
    "kernelspec": {
      "display_name": "Python 3",
      "language": "python",
      "name": "python3"
    },
    "language_info": {
      "codemirror_mode": {
        "name": "ipython",
        "version": 3
      },
      "file_extension": ".py",
      "mimetype": "text/x-python",
      "name": "python",
      "nbconvert_exporter": "python",
      "pygments_lexer": "ipython3",
      "version": "3.6.5"
    },
    "colab": {
      "name": "Desafio 8.ipynb",
      "provenance": [],
      "toc_visible": true,
      "include_colab_link": true
    }
  },
  "cells": [
    {
      "cell_type": "markdown",
      "metadata": {
        "id": "view-in-github",
        "colab_type": "text"
      },
      "source": [
        "<a href=\"https://colab.research.google.com/github/UesleyCarossi/br-python-challenges/blob/master/Desafio_08.ipynb\" target=\"_parent\"><img src=\"https://colab.research.google.com/assets/colab-badge.svg\" alt=\"Open In Colab\"/></a>"
      ]
    },
    {
      "cell_type": "markdown",
      "metadata": {
        "id": "o3tkeMDNf6Jo"
      },
      "source": [
        "### Desafio 8\n",
        "\n",
        "Escreva um script Python para encontrar as 10 palavras mais longas em um arquivo.\n",
        "\n",
        "O arquivo TXT está localizado na mesma pasta do projeto (texto.txt)."
      ]
    },
    {
      "cell_type": "code",
      "metadata": {
        "id": "EknxjSG0f6Jo"
      },
      "source": [
        "# Seu código"
      ],
      "execution_count": null,
      "outputs": []
    },
    {
      "cell_type": "code",
      "metadata": {
        "id": "ZYbqEWBG5nKx",
        "colab": {
          "base_uri": "https://localhost:8080/"
        },
        "outputId": "5c4a2b88-450a-4f24-ea9a-a2eddcd3e4d5"
      },
      "source": [
        "!wget https://raw.githubusercontent.com/UesleyCarossi/br-python-challenges/master/texto.txt"
      ],
      "execution_count": 1,
      "outputs": [
        {
          "output_type": "stream",
          "text": [
            "--2020-11-26 23:35:01--  https://raw.githubusercontent.com/UesleyCarossi/br-python-challenges/master/texto.txt\n",
            "Resolving raw.githubusercontent.com (raw.githubusercontent.com)... 151.101.0.133, 151.101.64.133, 151.101.128.133, ...\n",
            "Connecting to raw.githubusercontent.com (raw.githubusercontent.com)|151.101.0.133|:443... connected.\n",
            "HTTP request sent, awaiting response... 200 OK\n",
            "Length: 766 [text/plain]\n",
            "Saving to: ‘texto.txt’\n",
            "\n",
            "texto.txt           100%[===================>]     766  --.-KB/s    in 0s      \n",
            "\n",
            "2020-11-26 23:35:01 (31.3 MB/s) - ‘texto.txt’ saved [766/766]\n",
            "\n"
          ],
          "name": "stdout"
        }
      ]
    },
    {
      "cell_type": "code",
      "metadata": {
        "id": "GiOVKesa6SDP",
        "outputId": "5368119f-a9ec-4d81-979c-9a05429e04cc",
        "colab": {
          "base_uri": "https://localhost:8080/"
        }
      },
      "source": [
        "import re\n",
        "\n",
        "with open('texto.txt', 'r') as f:\n",
        "    data = f.read()\n",
        "\n",
        "print(sorted(re.findall('[A-Za-z]{2,}', data), key=len, reverse=True)[:10])\n"
      ],
      "execution_count": 37,
      "outputs": [
        {
          "output_type": "execute_result",
          "data": {
            "text/plain": [
              "['comprehensive',\n",
              " 'intermediate',\n",
              " 'interpreted',\n",
              " 'programming',\n",
              " 'readability',\n",
              " 'programmers',\n",
              " 'programming',\n",
              " 'programming',\n",
              " 'philosophy',\n",
              " 'emphasizes']"
            ]
          },
          "metadata": {
            "tags": []
          },
          "execution_count": 37
        }
      ]
    }
  ]
}